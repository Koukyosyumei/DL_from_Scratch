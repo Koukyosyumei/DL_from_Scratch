{
  "nbformat": 4,
  "nbformat_minor": 0,
  "metadata": {
    "colab": {
      "name": "attention.ipynb",
      "provenance": [],
      "collapsed_sections": []
    },
    "kernelspec": {
      "name": "python3",
      "display_name": "Python 3"
    },
    "accelerator": "GPU"
  },
  "cells": [
    {
      "cell_type": "code",
      "metadata": {
        "id": "4GuWtgJPjZDg",
        "colab_type": "code",
        "colab": {}
      },
      "source": [
        "from sklearn.model_selection import train_test_split\n",
        "import random\n",
        "from sklearn.utils import shuffle"
      ],
      "execution_count": 0,
      "outputs": []
    },
    {
      "cell_type": "code",
      "metadata": {
        "id": "9d6yoC-l8_yJ",
        "colab_type": "code",
        "colab": {}
      },
      "source": [
        "import numpy as np\n",
        "from matplotlib import pyplot as plt"
      ],
      "execution_count": 0,
      "outputs": []
    },
    {
      "cell_type": "code",
      "metadata": {
        "id": "NZwr3MK9oWlJ",
        "colab_type": "code",
        "outputId": "0c781ac0-5525-4034-a0ac-eebad91bf081",
        "colab": {
          "base_uri": "https://localhost:8080/",
          "height": 157
        }
      },
      "source": [
        "!pip install mxnet"
      ],
      "execution_count": 29,
      "outputs": [
        {
          "output_type": "stream",
          "text": [
            "Requirement already satisfied: mxnet in /usr/local/lib/python3.6/dist-packages (1.6.0)\n",
            "Requirement already satisfied: requests<3,>=2.20.0 in /usr/local/lib/python3.6/dist-packages (from mxnet) (2.23.0)\n",
            "Requirement already satisfied: graphviz<0.9.0,>=0.8.1 in /usr/local/lib/python3.6/dist-packages (from mxnet) (0.8.4)\n",
            "Requirement already satisfied: numpy<2.0.0,>1.16.0 in /usr/local/lib/python3.6/dist-packages (from mxnet) (1.18.3)\n",
            "Requirement already satisfied: chardet<4,>=3.0.2 in /usr/local/lib/python3.6/dist-packages (from requests<3,>=2.20.0->mxnet) (3.0.4)\n",
            "Requirement already satisfied: urllib3!=1.25.0,!=1.25.1,<1.26,>=1.21.1 in /usr/local/lib/python3.6/dist-packages (from requests<3,>=2.20.0->mxnet) (1.24.3)\n",
            "Requirement already satisfied: idna<3,>=2.5 in /usr/local/lib/python3.6/dist-packages (from requests<3,>=2.20.0->mxnet) (2.9)\n",
            "Requirement already satisfied: certifi>=2017.4.17 in /usr/local/lib/python3.6/dist-packages (from requests<3,>=2.20.0->mxnet) (2020.4.5.1)\n"
          ],
          "name": "stdout"
        }
      ]
    },
    {
      "cell_type": "code",
      "metadata": {
        "id": "47oDhfm2oVC-",
        "colab_type": "code",
        "colab": {}
      },
      "source": [
        "import mxnet as mx\n",
        "from mxnet import gluon\n",
        "from mxnet.gluon import nn\n",
        "from mxnet.gluon import rnn\n",
        "from mxnet import autograd as ag\n",
        "import mxnet.ndarray as F"
      ],
      "execution_count": 0,
      "outputs": []
    },
    {
      "cell_type": "markdown",
      "metadata": {
        "id": "oHhdOR8fnxPe",
        "colab_type": "text"
      },
      "source": [
        "## 前処理"
      ]
    },
    {
      "cell_type": "code",
      "metadata": {
        "id": "7fUSo8pvj-cj",
        "colab_type": "code",
        "colab": {}
      },
      "source": [
        "# 事前にGoogle Driveをマウントして以下の場所にdate.txtを格納しておく\n",
        "file_path = \"nlp_sample.txt\"\n",
        "\n",
        "input_date = [] # 変換前の日付データ\n",
        "output_date = [] # 変換後の日付データ\n",
        "\n",
        "# date.txtを1行ずつ読み込んで変換前と変換後に分割して、inputとoutputで分ける\n",
        "with open(file_path, \"r\") as f:\n",
        "  date_list = f.readlines()\n",
        "  for date in date_list:\n",
        "    date = date[:-1]\n",
        "    input_date.append(date.split(\"_\")[0])\n",
        "    output_date.append(\"_\" + date.split(\"_\")[1])"
      ],
      "execution_count": 0,
      "outputs": []
    },
    {
      "cell_type": "code",
      "metadata": {
        "id": "x9jjdU6_xZ2B",
        "colab_type": "code",
        "colab": {
          "base_uri": "https://localhost:8080/",
          "height": 34
        },
        "outputId": "46eb5679-8c74-434a-eefc-185d81645afc"
      },
      "source": [
        "print(\"num of sentence: \", len(input_date))"
      ],
      "execution_count": 32,
      "outputs": [
        {
          "output_type": "stream",
          "text": [
            "num of sentence:  50000\n"
          ],
          "name": "stdout"
        }
      ]
    },
    {
      "cell_type": "code",
      "metadata": {
        "id": "PLylCFU-xTQo",
        "colab_type": "code",
        "colab": {}
      },
      "source": [
        "input_date = input_date[:500]\n",
        "output_date = output_date[:500]"
      ],
      "execution_count": 0,
      "outputs": []
    },
    {
      "cell_type": "code",
      "metadata": {
        "id": "jrqWHKTwkBa9",
        "colab_type": "code",
        "colab": {}
      },
      "source": [
        "# inputとoutputの系列の長さを取得\n",
        "# すべて長さが同じなので、0番目の要素でlenを取ってます\n",
        "input_len = len(input_date[0]) # 29\n",
        "output_len = len(output_date[0]) # 10"
      ],
      "execution_count": 0,
      "outputs": []
    },
    {
      "cell_type": "code",
      "metadata": {
        "id": "6NlAvl_qkbtK",
        "colab_type": "code",
        "colab": {}
      },
      "source": [
        "# date.txtで登場するすべての文字にIDを割り当てる\n",
        "char2id = {c:i for i, c in\\\n",
        "            enumerate(set(list(\"\".join((input_date + output_date)))))}\n",
        "\n",
        "input_data = [] # ID化された変換前日付データ\n",
        "output_data = [] # ID化された変換後日付データ\n",
        "for input_chars, output_chars in zip(input_date, output_date):\n",
        "  input_data.append([char2id[c] for c in input_chars])\n",
        "  output_data.append([char2id[c] for c in output_chars])"
      ],
      "execution_count": 0,
      "outputs": []
    },
    {
      "cell_type": "code",
      "metadata": {
        "id": "kg5cFPddlHn3",
        "colab_type": "code",
        "colab": {}
      },
      "source": [
        "# 7:3でtrainとtestに分ける\n",
        "train_x, test_x, train_y, test_y = train_test_split(input_data, output_data, train_size= 0.7)\n",
        "\n",
        "# データをバッチ化するための関数を定義\n",
        "def train2batch(input_data, output_data, batch_size=100):\n",
        "    input_batch = []\n",
        "    output_batch = []\n",
        "    input_shuffle, output_shuffle = shuffle(input_data, output_data)\n",
        "    for i in range(0, len(input_data), batch_size):\n",
        "      input_batch.append(input_shuffle[i:i+batch_size])\n",
        "      output_batch.append(output_shuffle[i:i+batch_size])\n",
        "    return input_batch, output_batch"
      ],
      "execution_count": 0,
      "outputs": []
    },
    {
      "cell_type": "markdown",
      "metadata": {
        "id": "1h05lv3an17B",
        "colab_type": "text"
      },
      "source": [
        "## パラメータ設定"
      ]
    },
    {
      "cell_type": "code",
      "metadata": {
        "id": "tBcpTC2ymuvD",
        "colab_type": "code",
        "colab": {}
      },
      "source": [
        "embedding_dim = 200\n",
        "hidden_dim = 128\n",
        "BATCH_NUM = 100\n",
        "vocab_size = len(char2id)"
      ],
      "execution_count": 0,
      "outputs": []
    },
    {
      "cell_type": "code",
      "metadata": {
        "id": "0UQwdMtg5_fw",
        "colab_type": "code",
        "colab": {}
      },
      "source": [
        "epoch = 100"
      ],
      "execution_count": 0,
      "outputs": []
    },
    {
      "cell_type": "markdown",
      "metadata": {
        "id": "1zdW_hqSn73T",
        "colab_type": "text"
      },
      "source": [
        "## Encoderの設定"
      ]
    },
    {
      "cell_type": "code",
      "metadata": {
        "id": "Vwb8Q3hCojmT",
        "colab_type": "code",
        "colab": {}
      },
      "source": [
        "class Encoder(gluon.Block):\n",
        "  def __init__(self, vocab_size, embedding_dim, hidden_dim, num_layers=1, batch_size=100, **kwargs):\n",
        "      super(Encoder, self).__init__(**kwargs)\n",
        "      with self.name_scope():\n",
        "          self.hidden_dim = hidden_dim\n",
        "          self.num_layers = num_layers\n",
        "          self.batch_size = batch_size\n",
        "\n",
        "          self.word_embeddings = nn.Embedding(vocab_size, embedding_dim)\n",
        "          self.gru = rnn.GRU(hidden_dim, input_size=embedding_dim, layout=\"NTC\")\n",
        "\n",
        "  def forward(self, sequence):\n",
        "      embedding = self.word_embeddings(sequence)\n",
        "      # state.size() = (num_layers, batch_size, num_hidden)\n",
        "      begin_state = mx.nd.random.uniform(shape=(self.num_layers, self.batch_size, self.hidden_dim))\n",
        "      hs, h = self.gru(embedding, begin_state)\n",
        "      return hs, h"
      ],
      "execution_count": 0,
      "outputs": []
    },
    {
      "cell_type": "code",
      "metadata": {
        "id": "tgmJPFkYse_V",
        "colab_type": "code",
        "colab": {}
      },
      "source": [
        "class AttentionDecoder(gluon.Block):\n",
        "  def __init__(self, vocab_size, embedding_dim, hidden_dim, batch_size, **kwargs):\n",
        "      super(AttentionDecoder, self).__init__(**kwargs)\n",
        "      with self.name_scope():\n",
        "          self.hidden_dim = hidden_dim\n",
        "          self.batch_size = batch_size\n",
        "\n",
        "          self.word_embeddings = nn.Embedding(vocab_size, embedding_dim)\n",
        "          self.gru = rnn.GRU(hidden_dim, input_size=embedding_dim, layout=\"NTC\")\n",
        "          #各系列のGRUの隠れ層とAttention層で計算したコンテ\n",
        "          # hidden_dim*2としているのはキストベクトルをtorch.catでつなぎ合わせることで長さが２倍になるため\n",
        "          #self.hidden2linear = nn.Dense(vocab_size, in_units=hidden_dim * 2)\n",
        "          self.hidden2linear = nn.Dense(vocab_size, in_units=hidden_dim * 2, flatten=False)\n",
        "\n",
        "  def forward(self, sequence, hs, h):\n",
        "      embedding = self.word_embeddings(sequence)\n",
        "      output, state = self.gru(embedding, h)\n",
        "\n",
        "      # Attention層\n",
        "      # hs.size() = ([batch_size, 29, hidden_dim])\n",
        "      # output.size() = ([batch_size, 10, hidden_dim])\n",
        "\n",
        "      # bmmを使ってEncoder側の出力(hs)とDecoder側の出力(output)を\n",
        "      # batchごとまとめて行列計算するために、Decoder側のoutputを\n",
        "      # batchを固定して転置行列を取る\n",
        "      # t_output.size() = ([batch_size, hidden_dim, 10])\n",
        "      \n",
        "      t_output = mx.ndarray.transpose(output, axes=(0,2,1))\n",
        "      # s.size() = ([batch_size, 29, 10])\n",
        "      s = mx.ndarray.linalg.gemm2(hs, t_output)\n",
        "      \n",
        "      # 列方向で和\n",
        "      # attention_weight.size() = ([100, 29, 10])\n",
        "      attention_weight = mx.nd.softmax(s, axis=1)\n",
        "\n",
        "      # コンテキストベクトルをまとめるために入れ物を用意\n",
        "      # c.size() = ([batch_size, 1, hidden_dim])\n",
        "      \n",
        "      c = mx.ndarray.zeros((self.batch_size, 1, self.hidden_dim))\n",
        "\n",
        "      \n",
        "      # 各層（Decoder側のGRU層は生成文字列が10文字なので10個ある）\n",
        "      #におけるattention weightを取り出してforループ内でコンテキスト\n",
        "      # ベクトルを１つずつ作成する\n",
        "      # バッチ方向はまとめて計算できたのでバッチはそのまま\n",
        "      \n",
        "      for i in range(attention_weight.shape[2]): # 10回ループ\n",
        "\n",
        "        # attention_weight[:,:,i].size() = ([batch_size, 29])\n",
        "        # i番目のGRU層に対するattention weightを取り出すが、テンソルの\n",
        "        # サイズをhsと揃えるためにunsqueezeする\n",
        "        # unsq_weight.size() = ([batch_size, 29, 1])\n",
        "        unsq_weight = attention_weight[:,:,i].reshape(attention_weight.shape[0],\\\n",
        "                                              attention_weight.shape[1], 1)\n",
        "\n",
        "        # hsの各ベクトルをattention weightで重み付けする\n",
        "        # weighted_hs.size() = ([batch_size, 29, hidden_num])\n",
        "        weighted_hs = hs * unsq_weight \n",
        "        \n",
        "        # attention weightで重み付けされた各hsのベクトルをすべて足し合わせて\n",
        "        # コンテキストベクトルを作成\n",
        "        # weight_sum.size() = ([batch_size, 1, hidden_num])\n",
        "        weight_sum = mx.nd.sum(weighted_hs, axis=1).reshape(self.batch_size,\\\n",
        "                                                                1, self.hidden_dim)\n",
        "        \n",
        "        # c.size() = ([batch_size, i, hidden_num])\n",
        "        c = mx.ndarray.concat(c, weight_sum, dim=1)\n",
        "      \n",
        "      # 箱として用意したzero要素が残っているのでスライスして削除\n",
        "      # output.size() = ([batch_size, 10, hidden_dim*2])\n",
        "      \n",
        "      c = c[:,1:,:]\n",
        "      output = mx.nd.concat(output, c, dim=2)\n",
        "      output = self.hidden2linear(output)\n",
        "\n",
        "      return output, state, attention_weight"
      ],
      "execution_count": 0,
      "outputs": []
    },
    {
      "cell_type": "code",
      "metadata": {
        "id": "bUb29cypsfKK",
        "colab_type": "code",
        "colab": {}
      },
      "source": [
        "encoder = Encoder(vocab_size, embedding_dim, hidden_dim)\n",
        "attn_decoder = AttentionDecoder(vocab_size, embedding_dim, hidden_dim, BATCH_NUM)"
      ],
      "execution_count": 0,
      "outputs": []
    },
    {
      "cell_type": "code",
      "metadata": {
        "id": "LHMw6oeksfOg",
        "colab_type": "code",
        "outputId": "2ae0c673-f569-4245-b7a8-bebbddf8206c",
        "colab": {
          "base_uri": "https://localhost:8080/",
          "height": 87
        }
      },
      "source": [
        "encoder.summary"
      ],
      "execution_count": 42,
      "outputs": [
        {
          "output_type": "execute_result",
          "data": {
            "text/plain": [
              "<bound method Block.summary of Encoder(\n",
              "  (word_embeddings): Embedding(59 -> 200, float32)\n",
              "  (gru): GRU(200 -> 128, NTC)\n",
              ")>"
            ]
          },
          "metadata": {
            "tags": []
          },
          "execution_count": 42
        }
      ]
    },
    {
      "cell_type": "code",
      "metadata": {
        "id": "Vx5Zy2Bgn62U",
        "colab_type": "code",
        "outputId": "ba8415e6-6288-4768-f85c-d343635689bb",
        "colab": {
          "base_uri": "https://localhost:8080/",
          "height": 104
        }
      },
      "source": [
        "attn_decoder.summary"
      ],
      "execution_count": 43,
      "outputs": [
        {
          "output_type": "execute_result",
          "data": {
            "text/plain": [
              "<bound method Block.summary of AttentionDecoder(\n",
              "  (word_embeddings): Embedding(59 -> 200, float32)\n",
              "  (gru): GRU(200 -> 128, NTC)\n",
              "  (hidden2linear): Dense(256 -> 59, linear)\n",
              ")>"
            ]
          },
          "metadata": {
            "tags": []
          },
          "execution_count": 43
        }
      ]
    },
    {
      "cell_type": "code",
      "metadata": {
        "id": "N3-UDfwI5XOn",
        "colab_type": "code",
        "colab": {}
      },
      "source": [
        "# set the context on GPU is available otherwise CPU\n",
        "ctx = [mx.gpu() if mx.test_utils.list_gpus() else mx.cpu()]\n",
        "encoder.initialize(mx.init.Xavier(magnitude=2.24), ctx=ctx)\n",
        "encoder_trainer = gluon.Trainer(encoder.collect_params(), 'sgd', {'learning_rate': 0.03})"
      ],
      "execution_count": 0,
      "outputs": []
    },
    {
      "cell_type": "code",
      "metadata": {
        "id": "dQak_4HQ5lGt",
        "colab_type": "code",
        "colab": {}
      },
      "source": [
        "# set the context on GPU is available otherwise CPU\n",
        "ctx = [mx.gpu() if mx.test_utils.list_gpus() else mx.cpu()]\n",
        "attn_decoder.initialize(mx.init.Xavier(magnitude=2.24), ctx=ctx)\n",
        "attn_decoder_trainer = gluon.Trainer(attn_decoder.collect_params(), 'sgd', {'learning_rate': 0.03})"
      ],
      "execution_count": 0,
      "outputs": []
    },
    {
      "cell_type": "code",
      "metadata": {
        "id": "zZ2liFckfpuj",
        "colab_type": "code",
        "colab": {}
      },
      "source": [
        "# 損失関数\n",
        "criterion = gluon.loss.SoftmaxCrossEntropyLoss()"
      ],
      "execution_count": 0,
      "outputs": []
    },
    {
      "cell_type": "code",
      "metadata": {
        "id": "ty8cBOrH9Oda",
        "colab_type": "code",
        "colab": {}
      },
      "source": [
        "train_x = np.array(train_x)\n",
        "train_y = np.array(train_y)"
      ],
      "execution_count": 0,
      "outputs": []
    },
    {
      "cell_type": "code",
      "metadata": {
        "id": "ZZKK7lLZ8z7i",
        "colab_type": "code",
        "outputId": "3a11ff8d-538a-45da-b0cf-2c025622eed0",
        "colab": {
          "base_uri": "https://localhost:8080/",
          "height": 52
        }
      },
      "source": [
        "print(np.array(train_x).shape)\n",
        "print(np.array(train_y).shape)"
      ],
      "execution_count": 48,
      "outputs": [
        {
          "output_type": "stream",
          "text": [
            "(350, 29)\n",
            "(350, 11)\n"
          ],
          "name": "stdout"
        }
      ]
    },
    {
      "cell_type": "code",
      "metadata": {
        "id": "jx_4c6h-67-9",
        "colab_type": "code",
        "colab": {}
      },
      "source": [
        "train_data = mx.io.NDArrayIter(train_x, train_y, BATCH_NUM, shuffle=False)"
      ],
      "execution_count": 0,
      "outputs": []
    },
    {
      "cell_type": "code",
      "metadata": {
        "id": "cpoDoOVA5xpe",
        "colab_type": "code",
        "outputId": "0abd1fde-1a30-43ed-b784-40ef2088aa16",
        "colab": {
          "base_uri": "https://localhost:8080/",
          "height": 192
        }
      },
      "source": [
        "loss_log = []\n",
        "for i in range(epoch):\n",
        "  train_data.reset()\n",
        "  for batch in train_data:\n",
        "      data = gluon.utils.split_and_load(batch.data[0], ctx_list=ctx, batch_axis=0)\n",
        "      label = gluon.utils.split_and_load(batch.label[0], ctx_list=ctx, batch_axis=0)\n",
        "\n",
        "      with ag.record():\n",
        "          for x, y in zip(data, label):\n",
        "              hs, h = encoder(x)\n",
        "\n",
        "              # Attention Decoderのインプット\n",
        "              source = y[:, :-1]\n",
        "              # Attention Decoderの正解データ\n",
        "              target = y[:, 1:]\n",
        "\n",
        "              decoder_output, _, attention_weight= attn_decoder(source, hs, h)\n",
        "              #output = attn_decoder(source, hs, h)\n",
        "\n",
        "              loss = []\n",
        "              for j in range(decoder_output.shape[1]):\n",
        "                  loss.append(criterion(decoder_output[:, j, :], target[:, j]))\n",
        "\n",
        "              loss_sum = sum(loss)\n",
        "              loss_sum.backward()\n",
        "\n",
        "      encoder_trainer.step(batch.data[0].shape[0])\n",
        "      attn_decoder_trainer.step(batch.data[0].shape[0])\n",
        "\n",
        "  loss_sum_sum = sum(loss_sum).asnumpy()[0]\n",
        "  loss_log.append(loss_sum_sum)\n",
        "  if i % 10 == 0:\n",
        "      print(\"epoch_{i} loss: {loss}\".format(i=i, loss=loss_sum_sum))"
      ],
      "execution_count": 50,
      "outputs": [
        {
          "output_type": "stream",
          "text": [
            "epoch_0 loss: 3755.5595703125\n",
            "epoch_10 loss: 1972.5611572265625\n",
            "epoch_20 loss: 1464.1612548828125\n",
            "epoch_30 loss: 1333.322021484375\n",
            "epoch_40 loss: 1201.8514404296875\n",
            "epoch_50 loss: 1138.8641357421875\n",
            "epoch_60 loss: 1106.321533203125\n",
            "epoch_70 loss: 1076.081298828125\n",
            "epoch_80 loss: 1050.4949951171875\n",
            "epoch_90 loss: 1033.99755859375\n"
          ],
          "name": "stdout"
        }
      ]
    },
    {
      "cell_type": "code",
      "metadata": {
        "id": "O09LIHtrxAey",
        "colab_type": "code",
        "colab": {
          "base_uri": "https://localhost:8080/",
          "height": 298
        },
        "outputId": "035aeff9-ad7d-48a9-b470-7fec393e1ab8"
      },
      "source": [
        "plt.title(\"attention_loss.png\")\n",
        "plt.plot(loss_log)"
      ],
      "execution_count": 54,
      "outputs": [
        {
          "output_type": "execute_result",
          "data": {
            "text/plain": [
              "[<matplotlib.lines.Line2D at 0x7f7c2e5a96d8>]"
            ]
          },
          "metadata": {
            "tags": []
          },
          "execution_count": 54
        },
        {
          "output_type": "display_data",
          "data": {
            "image/png": "[encoded data removed]",
            "text/plain": [
              "<Figure size 432x288 with 1 Axes>"
            ]
          },
          "metadata": {
            "tags": [],
            "needs_background": "light"
          }
        }
      ]
    },
    {
      "cell_type": "code",
      "metadata": {
        "id": "4wF1Lowc0XEg",
        "colab_type": "code",
        "colab": {}
      },
      "source": [
        ""
      ],
      "execution_count": 0,
      "outputs": []
    }
  ]
}